{
 "cells": [
  {
   "cell_type": "markdown",
   "id": "19b57cef",
   "metadata": {},
   "source": [
    "# Previsão de Pedidos — Modelos para SIM Card e Terminal\n"
   ]
  },
  {
   "cell_type": "markdown",
   "id": "d3cf6c60",
   "metadata": {},
   "source": [
    "## Sumário\n",
    "\n",
    "1. Problema de Negócio\n",
    "2. Bibliotecas\n",
    "3. ETL\n",
    "4. Dicionário de Dados  \n",
    "5. Descritivo\n",
    "6. Split Temporal\n",
    "7. Baselines por Tipo\n",
    "8. Avaliações\n",
    "9. PRED\n",
    "10. Save pipeline e modelos  \n",
    "11. Implementação\n",
    "12. Retreino"
   ]
  },
  {
   "cell_type": "markdown",
   "id": "4046bd4d",
   "metadata": {},
   "source": [
    "## 1 - Problema de Negócio\n",
    "\n",
    "**Contexto:**  \n",
    "Esse projeto tem como finalidade a criação de modelos de predição de quantidade de pedidos no CD - Belo Horizonte "
   ]
  },
  {
   "cell_type": "markdown",
   "id": "8c9d35d7",
   "metadata": {},
   "source": [
    "# 2 - Bibliotecas"
   ]
  },
  {
   "cell_type": "code",
   "execution_count": 10,
   "id": "053a748c",
   "metadata": {},
   "outputs": [],
   "source": [
    "import os, warnings\n",
    "warnings.filterwarnings(\"ignore\")\n",
    "\n",
    "import numpy as np\n",
    "import pandas as pd\n",
    "import seaborn as sns\n",
    "import matplotlib.pyplot as plt\n",
    "plt.style.use(\"seaborn-v0_8-whitegrid\")\n",
    "\n",
    "from sklearn.metrics import mean_absolute_error\n",
    "from pandas.tseries.offsets import BusinessDay, MonthEnd\n",
    "\n",
    "from neuralforecast import NeuralForecast\n",
    "from neuralforecast.models import NHITS\n",
    "\n",
    "\n",
    "from pathlib import Path\n",
    "import json, pickle\n"
   ]
  },
  {
   "cell_type": "markdown",
   "id": "74de9758",
   "metadata": {},
   "source": [
    "# 3 - ETL\n",
    "\n",
    "Resumo da etapa (ETL): Esta célula carrega o Excel (Pedidos.xlsx), valida a existência do arquivo e das colunas obrigatórias, filtra os registros para MG e para os tipos Simcard e Terminal, converte a data (DT NF) e agrega a contagem diária de pedidos por tipo (y). Em seguida, padroniza o calendário em dias úteis (preenchendo lacunas com y=0), cria variáveis exógenas de calendário (dow_num e mes_num) e um indicador de fechamento (1 nos 3 últimos dias úteis de cada mês). Por fim, consolida tudo em Y_df com unique_id, ds, y e as features, preparando a base para o treinamento de modelos "
   ]
  },
  {
   "cell_type": "code",
   "execution_count": 2,
   "id": "197cc98c",
   "metadata": {},
   "outputs": [
    {
     "name": "stdout",
     "output_type": "stream",
     "text": [
      "Período (Business Days) global: 2025-01-02 → 2025-06-25\n"
     ]
    }
   ],
   "source": [
    "# ================================\n",
    "# ETL — Carregamento e Checagens\n",
    "# ================================\n",
    "# Caminho do Excel\n",
    "ARQ_XLSX = r\"C:\\Users\\40418197\\Desktop\\ML Pedidos\\Pedidos.xlsx\"\n",
    "\n",
    "UF_ALVO   = \"MG\"\n",
    "TIPOS_OK  = [\"Simcard\", \"Terminal\"]\n",
    "COLS_KEEP = [\"DT NF\", \"TIPO MAT\", \"MES\", \"UF\"]\n",
    "\n",
    "# ## 2) Leitura, filtro e preparação (Seg–Sex) + feature `fechamento`\n",
    "\n",
    "if not os.path.exists(ARQ_XLSX):\n",
    "    raise FileNotFoundError(f\"Não encontrei o arquivo: {ARQ_XLSX}\")\n",
    "\n",
    "# Preserva o bruto (opcional, mas útil)\n",
    "df_raw = pd.read_excel(ARQ_XLSX, engine=\"openpyxl\")\n",
    "\n",
    "missing = set(COLS_KEEP) - set(df_raw.columns)\n",
    "if missing:\n",
    "    raise ValueError(f\"Colunas obrigatórias ausentes no Excel: {missing}\")\n",
    "\n",
    "# Filtra\n",
    "df = df_raw[COLS_KEEP].copy()\n",
    "# ✅ Corrige o filtro: use `in` no query e crase na coluna com espaço\n",
    "df = df.query(\"UF == @UF_ALVO and `TIPO MAT` in @TIPOS_OK\").copy()\n",
    "\n",
    "# Datas\n",
    "df[\"DT NF\"] = pd.to_datetime(df[\"DT NF\"])\n",
    "df[\"dia\"]   = df[\"DT NF\"].dt.floor(\"D\")\n",
    "\n",
    "# Agrega contagem diária por tipo\n",
    "daily = (df.groupby([\"TIPO MAT\",\"dia\"], as_index=False)\n",
    "           .size().rename(columns={\"size\":\"y\"}))\n",
    "\n",
    "def make_business_series(g):\n",
    "    \"\"\"\n",
    "    - Reindexa em dias úteis (freq='B')\n",
    "    - Preenche y=0 em dias úteis sem pedido\n",
    "    - Cria exógenas: dow_num, mes_num\n",
    "    - Cria 'fechamento' = 1 nos 3 últimos dias úteis do mês\n",
    "    \"\"\"\n",
    "    g = g.set_index(\"dia\").sort_index()\n",
    "    bidx = pd.date_range(g.index.min(), g.index.max(), freq=\"B\")\n",
    "    g = g.reindex(bidx)\n",
    "    g.index.name = \"ds\"\n",
    "    g[\"y\"] = g[\"y\"].fillna(0).astype(int)\n",
    "    g[\"dow_num\"] = g.index.dayofweek   # 0..4 em B-days\n",
    "    g[\"mes_num\"] = g.index.month\n",
    "\n",
    "    # fechamento\n",
    "    g[\"fechamento\"] = 0\n",
    "    for _, gi in g.groupby(g.index.to_period('M')):\n",
    "        last3 = gi.index.sort_values()[-3:]\n",
    "        g.loc[last3, \"fechamento\"] = 1\n",
    "\n",
    "    return g.reset_index()\n",
    "\n",
    "TIPOS_OK = list(TIPOS_OK)  # garante iterável simples\n",
    "series = {}\n",
    "for t in TIPOS_OK:\n",
    "    g = daily[daily[\"TIPO MAT\"]==t][[\"dia\",\"y\"]].copy()\n",
    "    series[t] = make_business_series(g)\n",
    "    series[t][\"unique_id\"] = t\n",
    "\n",
    "Y_df = pd.concat([series[t] for t in TIPOS_OK], ignore_index=True)[\n",
    "    [\"unique_id\",\"ds\",\"y\",\"dow_num\",\"mes_num\",\"fechamento\"]\n",
    "].sort_values([\"unique_id\",\"ds\"]).reset_index(drop=True)\n",
    "\n",
    "print(\"Período (Business Days) global:\", Y_df[\"ds\"].min().date(), \"→\", Y_df[\"ds\"].max().date())\n"
   ]
  },
  {
   "cell_type": "markdown",
   "id": "ea470f20",
   "metadata": {},
   "source": [
    "# 4 - Dicionário de Dados\n",
    "\n",
    "- **UF**: Estado (Unidade Federativa onde ocorreu o atendimento)\n",
    "- **TIPO MAT**: Tipo de atendimento do pedido (ex.: instalação, manutenção, reparo)\n",
    "- **MES**: Mês de referência do atendimento\n",
    "- **DT NF**: Data do atendimento do pedido (data da nota fiscal)\n",
    "- **ALVO_SIM**: Variável alvo para o modelo SIM Card (Quantidade de linhas com TIPO MAT == SimCard, cada linha um pedido)\n",
    "- **ALVO_TERMINAL**: Variável alvo para o modelo Terminal (Quantidade de linhas com TIPO MAT == Terminal, cada linha um pedido)\n",
    "\n"
   ]
  },
  {
   "cell_type": "code",
   "execution_count": 3,
   "id": "ed84d04d",
   "metadata": {},
   "outputs": [
    {
     "data": {
      "text/html": [
       "<style type=\"text/css\">\n",
       "</style>\n",
       "<table id=\"T_210d1\">\n",
       "  <caption>Dicionário de Dados — df</caption>\n",
       "  <thead>\n",
       "    <tr>\n",
       "      <th class=\"blank level0\" >&nbsp;</th>\n",
       "      <th id=\"T_210d1_level0_col0\" class=\"col_heading level0 col0\" >coluna</th>\n",
       "      <th id=\"T_210d1_level0_col1\" class=\"col_heading level0 col1\" >dtype_pandas</th>\n",
       "      <th id=\"T_210d1_level0_col2\" class=\"col_heading level0 col2\" >%_nulos</th>\n",
       "      <th id=\"T_210d1_level0_col3\" class=\"col_heading level0 col3\" >n_unicos</th>\n",
       "      <th id=\"T_210d1_level0_col4\" class=\"col_heading level0 col4\" >exemplos</th>\n",
       "    </tr>\n",
       "  </thead>\n",
       "  <tbody>\n",
       "    <tr>\n",
       "      <th id=\"T_210d1_level0_row0\" class=\"row_heading level0 row0\" >0</th>\n",
       "      <td id=\"T_210d1_row0_col0\" class=\"data row0 col0\" >UF</td>\n",
       "      <td id=\"T_210d1_row0_col1\" class=\"data row0 col1\" >object</td>\n",
       "      <td id=\"T_210d1_row0_col2\" class=\"data row0 col2\" >0.00</td>\n",
       "      <td id=\"T_210d1_row0_col3\" class=\"data row0 col3\" >1</td>\n",
       "      <td id=\"T_210d1_row0_col4\" class=\"data row0 col4\" >MG</td>\n",
       "    </tr>\n",
       "    <tr>\n",
       "      <th id=\"T_210d1_level0_row1\" class=\"row_heading level0 row1\" >1</th>\n",
       "      <td id=\"T_210d1_row1_col0\" class=\"data row1 col0\" >TIPO MAT</td>\n",
       "      <td id=\"T_210d1_row1_col1\" class=\"data row1 col1\" >object</td>\n",
       "      <td id=\"T_210d1_row1_col2\" class=\"data row1 col2\" >0.00</td>\n",
       "      <td id=\"T_210d1_row1_col3\" class=\"data row1 col3\" >2</td>\n",
       "      <td id=\"T_210d1_row1_col4\" class=\"data row1 col4\" >Simcard, Terminal</td>\n",
       "    </tr>\n",
       "    <tr>\n",
       "      <th id=\"T_210d1_level0_row2\" class=\"row_heading level0 row2\" >2</th>\n",
       "      <td id=\"T_210d1_row2_col0\" class=\"data row2 col0\" >MES</td>\n",
       "      <td id=\"T_210d1_row2_col1\" class=\"data row2 col1\" >object</td>\n",
       "      <td id=\"T_210d1_row2_col2\" class=\"data row2 col2\" >0.00</td>\n",
       "      <td id=\"T_210d1_row2_col3\" class=\"data row2 col3\" >6</td>\n",
       "      <td id=\"T_210d1_row2_col4\" class=\"data row2 col4\" >JAN, FEV, MAR, ABR, MAI, JUN</td>\n",
       "    </tr>\n",
       "    <tr>\n",
       "      <th id=\"T_210d1_level0_row3\" class=\"row_heading level0 row3\" >3</th>\n",
       "      <td id=\"T_210d1_row3_col0\" class=\"data row3 col0\" >DT NF</td>\n",
       "      <td id=\"T_210d1_row3_col1\" class=\"data row3 col1\" >datetime64[ns]</td>\n",
       "      <td id=\"T_210d1_row3_col2\" class=\"data row3 col2\" >0.00</td>\n",
       "      <td id=\"T_210d1_row3_col3\" class=\"data row3 col3\" >133</td>\n",
       "      <td id=\"T_210d1_row3_col4\" class=\"data row3 col4\" >muitos valores</td>\n",
       "    </tr>\n",
       "    <tr>\n",
       "      <th id=\"T_210d1_level0_row4\" class=\"row_heading level0 row4\" >4</th>\n",
       "      <td id=\"T_210d1_row4_col0\" class=\"data row4 col0\" >dia</td>\n",
       "      <td id=\"T_210d1_row4_col1\" class=\"data row4 col1\" >datetime64[ns]</td>\n",
       "      <td id=\"T_210d1_row4_col2\" class=\"data row4 col2\" >0.00</td>\n",
       "      <td id=\"T_210d1_row4_col3\" class=\"data row4 col3\" >133</td>\n",
       "      <td id=\"T_210d1_row4_col4\" class=\"data row4 col4\" >muitos valores</td>\n",
       "    </tr>\n",
       "  </tbody>\n",
       "</table>\n"
      ],
      "text/plain": [
       "<pandas.io.formats.style.Styler at 0x235662647a0>"
      ]
     },
     "metadata": {},
     "output_type": "display_data"
    },
    {
     "data": {
      "text/html": [
       "<style type=\"text/css\">\n",
       "</style>\n",
       "<table id=\"T_50d9b\">\n",
       "  <caption>Dicionário de Dados — Y_df</caption>\n",
       "  <thead>\n",
       "    <tr>\n",
       "      <th class=\"blank level0\" >&nbsp;</th>\n",
       "      <th id=\"T_50d9b_level0_col0\" class=\"col_heading level0 col0\" >coluna</th>\n",
       "      <th id=\"T_50d9b_level0_col1\" class=\"col_heading level0 col1\" >dtype_pandas</th>\n",
       "      <th id=\"T_50d9b_level0_col2\" class=\"col_heading level0 col2\" >%_nulos</th>\n",
       "      <th id=\"T_50d9b_level0_col3\" class=\"col_heading level0 col3\" >n_unicos</th>\n",
       "      <th id=\"T_50d9b_level0_col4\" class=\"col_heading level0 col4\" >exemplos</th>\n",
       "    </tr>\n",
       "  </thead>\n",
       "  <tbody>\n",
       "    <tr>\n",
       "      <th id=\"T_50d9b_level0_row0\" class=\"row_heading level0 row0\" >0</th>\n",
       "      <td id=\"T_50d9b_row0_col0\" class=\"data row0 col0\" >unique_id</td>\n",
       "      <td id=\"T_50d9b_row0_col1\" class=\"data row0 col1\" >object</td>\n",
       "      <td id=\"T_50d9b_row0_col2\" class=\"data row0 col2\" >0.00</td>\n",
       "      <td id=\"T_50d9b_row0_col3\" class=\"data row0 col3\" >2</td>\n",
       "      <td id=\"T_50d9b_row0_col4\" class=\"data row0 col4\" >Simcard, Terminal</td>\n",
       "    </tr>\n",
       "    <tr>\n",
       "      <th id=\"T_50d9b_level0_row1\" class=\"row_heading level0 row1\" >1</th>\n",
       "      <td id=\"T_50d9b_row1_col0\" class=\"data row1 col0\" >fechamento</td>\n",
       "      <td id=\"T_50d9b_row1_col1\" class=\"data row1 col1\" >int64</td>\n",
       "      <td id=\"T_50d9b_row1_col2\" class=\"data row1 col2\" >0.00</td>\n",
       "      <td id=\"T_50d9b_row1_col3\" class=\"data row1 col3\" >2</td>\n",
       "      <td id=\"T_50d9b_row1_col4\" class=\"data row1 col4\" >0, 1</td>\n",
       "    </tr>\n",
       "    <tr>\n",
       "      <th id=\"T_50d9b_level0_row2\" class=\"row_heading level0 row2\" >2</th>\n",
       "      <td id=\"T_50d9b_row2_col0\" class=\"data row2 col0\" >dow_num</td>\n",
       "      <td id=\"T_50d9b_row2_col1\" class=\"data row2 col1\" >int32</td>\n",
       "      <td id=\"T_50d9b_row2_col2\" class=\"data row2 col2\" >0.00</td>\n",
       "      <td id=\"T_50d9b_row2_col3\" class=\"data row2 col3\" >5</td>\n",
       "      <td id=\"T_50d9b_row2_col4\" class=\"data row2 col4\" >3, 4, 0, 1, 2</td>\n",
       "    </tr>\n",
       "    <tr>\n",
       "      <th id=\"T_50d9b_level0_row3\" class=\"row_heading level0 row3\" >3</th>\n",
       "      <td id=\"T_50d9b_row3_col0\" class=\"data row3 col0\" >mes_num</td>\n",
       "      <td id=\"T_50d9b_row3_col1\" class=\"data row3 col1\" >int32</td>\n",
       "      <td id=\"T_50d9b_row3_col2\" class=\"data row3 col2\" >0.00</td>\n",
       "      <td id=\"T_50d9b_row3_col3\" class=\"data row3 col3\" >6</td>\n",
       "      <td id=\"T_50d9b_row3_col4\" class=\"data row3 col4\" >1, 2, 3, 4, 5, 6</td>\n",
       "    </tr>\n",
       "    <tr>\n",
       "      <th id=\"T_50d9b_level0_row4\" class=\"row_heading level0 row4\" >4</th>\n",
       "      <td id=\"T_50d9b_row4_col0\" class=\"data row4 col0\" >ds</td>\n",
       "      <td id=\"T_50d9b_row4_col1\" class=\"data row4 col1\" >datetime64[ns]</td>\n",
       "      <td id=\"T_50d9b_row4_col2\" class=\"data row4 col2\" >0.00</td>\n",
       "      <td id=\"T_50d9b_row4_col3\" class=\"data row4 col3\" >125</td>\n",
       "      <td id=\"T_50d9b_row4_col4\" class=\"data row4 col4\" >muitos valores</td>\n",
       "    </tr>\n",
       "    <tr>\n",
       "      <th id=\"T_50d9b_level0_row5\" class=\"row_heading level0 row5\" >5</th>\n",
       "      <td id=\"T_50d9b_row5_col0\" class=\"data row5 col0\" >y</td>\n",
       "      <td id=\"T_50d9b_row5_col1\" class=\"data row5 col1\" >int64</td>\n",
       "      <td id=\"T_50d9b_row5_col2\" class=\"data row5 col2\" >0.00</td>\n",
       "      <td id=\"T_50d9b_row5_col3\" class=\"data row5 col3\" >228</td>\n",
       "      <td id=\"T_50d9b_row5_col4\" class=\"data row5 col4\" >muitos valores</td>\n",
       "    </tr>\n",
       "  </tbody>\n",
       "</table>\n"
      ],
      "text/plain": [
       "<pandas.io.formats.style.Styler at 0x235662647a0>"
      ]
     },
     "metadata": {},
     "output_type": "display_data"
    }
   ],
   "source": [
    "# Função para gerar dicionário de dados inferido a partir do DataFrame\n",
    "def gerar_dic_dados(df: pd.DataFrame, sample_cats: int = 10) -> pd.DataFrame:\n",
    "    d = []\n",
    "    for col in df.columns:\n",
    "        s = df[col]\n",
    "        tipo = str(s.dtype)\n",
    "        pct_nulos = float(s.isna().mean() * 100)\n",
    "        unicos = int(s.nunique(dropna=True))\n",
    "\n",
    "        # Exemplos\n",
    "        if unicos <= sample_cats:\n",
    "            vals = s.dropna().unique()[:sample_cats]\n",
    "            # Formata datas de forma amigável\n",
    "            if pd.api.types.is_datetime64_any_dtype(s):\n",
    "                import numpy as np\n",
    "                exemplos = \", \".join(\n",
    "                    pd.to_datetime(pd.Series(vals)).dt.strftime(\"%Y-%m-%d\").tolist()\n",
    "                )\n",
    "            else:\n",
    "                exemplos = \", \".join(map(str, vals))\n",
    "        else:\n",
    "            exemplos = \"muitos valores\"\n",
    "\n",
    "        d.append({\n",
    "            \"coluna\": col,\n",
    "            \"dtype_pandas\": tipo,\n",
    "            \"%_nulos\": round(pct_nulos, 2),\n",
    "            \"n_unicos\": unicos,\n",
    "            \"exemplos\": exemplos\n",
    "        })\n",
    "    return (pd.DataFrame(d)\n",
    "            .sort_values(by=[\"%_nulos\", \"n_unicos\"], ascending=[False, True])\n",
    "            .reset_index(drop=True))\n",
    "\n",
    "# 🔹 Dicionário do dataset final de modelagem\n",
    "dic_models = gerar_dic_dados(Y_df)\n",
    "dic_raw = gerar_dic_dados(df)\n",
    "# Em notebook, fica mais bonito com Styler:\n",
    "try:\n",
    "    display(dic_raw.style.format({\"%_nulos\": \"{:.2f}\"}).set_caption(\"Dicionário de Dados — df\"))\n",
    "    display(dic_models.style.format({\"%_nulos\": \"{:.2f}\"}).set_caption(\"Dicionário de Dados — Y_df\"))\n",
    "except NameError:\n",
    "    print(dic_raw)\n",
    "    print(dic_models)"
   ]
  },
  {
   "cell_type": "markdown",
   "id": "88425461",
   "metadata": {},
   "source": [
    "# 5 - Descritiva"
   ]
  },
  {
   "cell_type": "markdown",
   "id": "b0668156",
   "metadata": {},
   "source": [
    "## 5.1 Relação dias próximos ao fechamento do mês com pedidos "
   ]
  },
  {
   "cell_type": "code",
   "execution_count": 4,
   "id": "65309633",
   "metadata": {},
   "outputs": [
    {
     "name": "stdout",
     "output_type": "stream",
     "text": [
      "\n",
      "=== Simcard ===\n",
      "Média fechamento=1: 1478.8 | fechamento=0: 1352.1 | Uplift: 9.4%\n"
     ]
    },
    {
     "data": {
      "image/png": "[encoded data removed]",
      "text/plain": [
       "<Figure size 500x400 with 1 Axes>"
      ]
     },
     "metadata": {},
     "output_type": "display_data"
    },
    {
     "name": "stdout",
     "output_type": "stream",
     "text": [
      "\n",
      "=== Terminal ===\n",
      "Média fechamento=1: 1398.8 | fechamento=0: 1158.8 | Uplift: 20.7%\n"
     ]
    },
    {
     "data": {
      "image/png": "[encoded data removed]",
      "text/plain": [
       "<Figure size 500x400 with 1 Axes>"
      ]
     },
     "metadata": {},
     "output_type": "display_data"
    }
   ],
   "source": [
    "# ## 3) Diagnóstico do `fechamento` (uplift + boxplot)\n",
    "\n",
    "def visualizar_efeito_fechamento(Y):\n",
    "    for uid in Y[\"unique_id\"].unique():\n",
    "        g = Y[Y[\"unique_id\"]==uid]\n",
    "        base = g.groupby(\"fechamento\")[\"y\"].mean()\n",
    "        mean_f = base.get(1, np.nan)\n",
    "        mean_n = base.get(0, np.nan)\n",
    "        uplift = (mean_f - mean_n) / mean_n * 100 if (isinstance(mean_n, (int,float)) and mean_n>0) else np.nan\n",
    "\n",
    "        print(f\"\\n=== {uid} ===\")\n",
    "        print(f\"Média fechamento=1: {mean_f:.1f} | fechamento=0: {mean_n:.1f} | Uplift: {uplift:.1f}%\")\n",
    "\n",
    "        plt.figure(figsize=(5,4))\n",
    "        sns.boxplot(x=g[\"fechamento\"].map({0:\"Não fechamento\",1:\"Fechamento\"}), y=g[\"y\"], palette=\"Blues\")\n",
    "        plt.title(f\"{uid}: pedidos — fechamento vs não\")\n",
    "        plt.xlabel(\"\"); plt.ylabel(\"Pedidos\"); plt.tight_layout(); plt.show()\n",
    "\n",
    "visualizar_efeito_fechamento(Y_df)"
   ]
  },
  {
   "cell_type": "markdown",
   "id": "baa5faa1",
   "metadata": {},
   "source": [
    "## 5.2 Séries temporais por tipo de pedido"
   ]
  },
  {
   "cell_type": "code",
   "execution_count": 14,
   "id": "6411504b",
   "metadata": {},
   "outputs": [
    {
     "data": {
      "image/png": "[encoded data removed]",
      "text/plain": [
       "<Figure size 1200x400 with 1 Axes>"
      ]
     },
     "metadata": {},
     "output_type": "display_data"
    }
   ],
   "source": [
    "\n",
    "fig, ax = plt.subplots(figsize=(12,4))\n",
    "for t, g in Y_df.groupby('unique_id'):\n",
    "    ax.plot(g['ds'], g['y'], label=t, alpha=0.9)\n",
    "ax.set_title('Série temporal diária por tipo (dias úteis)')\n",
    "ax.set_xlabel('Data'); ax.set_ylabel('Pedidos (y)')\n",
    "ax.legend(); ax.grid(True, alpha=0.3)\n",
    "plt.show()\n"
   ]
  },
  {
   "cell_type": "markdown",
   "id": "e23a5014",
   "metadata": {},
   "source": [
    "# 6 - Split Temporal\n",
    "\n",
    "Aqui definimos a estratégia de separação entre treino e teste respeitando a ordem temporal, essencial para séries temporais. Primeiro, configuramos hiperparâmetros como o tamanho da janela de entrada para cada tipo (INPUT_SIZE_SIM e INPUT_SIZE_TER), o horizonte de previsão (H = 1, ou seja, prever o próximo dia útil) e o tamanho do conjunto de teste (TEST_BDAYS = 16 dias úteis finais). Em seguida, dividimos o dataset Y_df em treino (todos os dias úteis exceto os últimos 16) e teste (os últimos 16 dias úteis), garantindo que não haja vazamento de informação futura. Por fim, criamos uma função para obter os splits por unique_id (Simcard e Terminal) e exibimos os intervalos de datas para cada série.\n",
    "\n"
   ]
  },
  {
   "cell_type": "code",
   "execution_count": null,
   "id": "d43540d6",
   "metadata": {},
   "outputs": [
    {
     "name": "stdout",
     "output_type": "stream",
     "text": [
      "Simcard   | Treino: 2025-01-02 → 2025-06-03 | Teste: 2025-06-04 → 2025-06-25\n",
      "Terminal  | Treino: 2025-01-02 → 2025-06-03 | Teste: 2025-06-04 → 2025-06-25\n"
     ]
    }
   ],
   "source": [
    "# Split temporal — treino/teste (últimos N dias úteis)\n",
    "\n",
    "# Hiperparâmetros e splits\n",
    "INPUT_SIZE_SIM = 35     # janela Simcard (~5 semanas úteis)\n",
    "INPUT_SIZE_TER = 84     # janela Terminal (mais longa)\n",
    "H = 1                   # horizonte D+1 (próximo dia útil)\n",
    "TEST_BDAYS = 16         # últimos N dias úteis para teste\n",
    "\n",
    "all_bd = np.sort(Y_df[\"ds\"].unique())\n",
    "test_dates = all_bd[-TEST_BDAYS:] if len(all_bd) > TEST_BDAYS else all_bd\n",
    "\n",
    "train = Y_df[~Y_df[\"ds\"].isin(test_dates)].copy()\n",
    "test  = Y_df[Y_df[\"ds\"].isin(test_dates)].copy()\n",
    "\n",
    "def split_by_uid(uid):\n",
    "    tr = train[train[\"unique_id\"]==uid].copy()\n",
    "    te = test [test [\"unique_id\"]==uid].copy()\n",
    "    return tr, te\n",
    "\n",
    "for t in TIPOS_OK:\n",
    "    tr, te = split_by_uid(t)\n",
    "    print(f\"{t:9s} | Treino: {tr['ds'].min().date()} → {tr['ds'].max().date()} | Teste: {te['ds'].min().date()} → {te['ds'].max().date()}\")"
   ]
  },
  {
   "cell_type": "markdown",
   "id": "2ab95c24",
   "metadata": {},
   "source": [
    "# 7 - Baselines por tipo\n",
    "\n",
    " Aqui criamos e avaliamos modelos de referência simples para cada tipo de material (Simcard e Terminal), que servem como benchmark para comparar modelos mais sofisticados. Foram implementadas duas estratégias:\n",
    "\n",
    "Mean DOW: prevê a demanda usando a média histórica do mesmo dia da semana.\n",
    "\n",
    "Same DOW (últimas 4 semanas úteis): usa a média dos últimos dias úteis com o mesmo dia da semana, dentro de uma janela de 4 semanas (~20 dias úteis).\n",
    "\n",
    "As previsões são avaliadas com MAE, sMAPE e acurácia por faixas (agrupando valores em bins de 200 unidades), fornecendo métricas para entender a qualidade mínima aceitável antes de aplicar modelos mais complexos."
   ]
  },
  {
   "cell_type": "code",
   "execution_count": null,
   "id": "92df2827",
   "metadata": {},
   "outputs": [
    {
     "name": "stdout",
     "output_type": "stream",
     "text": [
      "\n",
      "=== Baselines — Simcard ===\n",
      "Mean DOW                 | MAE=224.4 | sMAPE=22.14% | acc_faixa(200)=43.8%\n",
      "Same DOW (≈4 sem úteis)  | MAE=259.7 | sMAPE=24.58% | acc_faixa(200)=37.5%\n",
      "\n",
      "=== Baselines — Terminal ===\n",
      "Mean DOW                 | MAE=597.8 | sMAPE=42.03% | acc_faixa(200)=6.2%\n",
      "Same DOW (≈4 sem úteis)  | MAE=509.5 | sMAPE=35.21% | acc_faixa(200)=12.5%\n"
     ]
    }
   ],
   "source": [
    "# Baselines por tipo (Seg–Sex)\n",
    "\n",
    "# === Faixas (lotes) ===\n",
    "BIN_SIZE = 200          # <<-- definido para 200\n",
    "\n",
    "def to_bin_index_centered(y, bin_size=200):\n",
    "    \"\"\"Índice de faixa via arredondamento para o múltiplo de BIN_SIZE mais próximo.\"\"\"\n",
    "    y = np.maximum(0, np.asarray(y))\n",
    "    return np.floor((y + bin_size/2) / bin_size).astype(int)\n",
    "\n",
    "def acc_bins_centered(y_true, y_pred, bin_size=200):\n",
    "    \"\"\"Acurácia Top‑1 em faixas centralizadas (BIN_SIZE).\"\"\"\n",
    "    true_idx = to_bin_index_centered(y_true, bin_size)\n",
    "    pred_idx = to_bin_index_centered(y_pred, bin_size)\n",
    "    return (true_idx == pred_idx).mean(), true_idx, pred_idx\n",
    "\n",
    "def smape(y, yhat, eps=1e-6):\n",
    "    y, yhat = np.asarray(y), np.asarray(yhat)\n",
    "    return 100.0 * np.mean(2.0*np.abs(yhat - y) / (np.abs(y) + np.abs(yhat) + eps))\n",
    "\n",
    "def baseline_dow_mean_per_uid(tr, te):\n",
    "    means = tr.groupby(\"dow_num\")[\"y\"].mean().to_dict()\n",
    "    out = te.copy()\n",
    "    out[\"yhat_dow_mean\"] = out[\"dow_num\"].map(means).fillna(tr[\"y\"].mean())\n",
    "    return out\n",
    "\n",
    "def baseline_same_dow_last_4w_B(tr, te, bdays=20):\n",
    "    out = []\n",
    "    all_df = pd.concat([tr, te]).sort_values(\"ds\").set_index(\"ds\")\n",
    "    for ds, row in te.set_index(\"ds\").iterrows():\n",
    "        dow = int(row[\"dow_num\"])\n",
    "        ini = ds - BusinessDay(bdays)\n",
    "        hist = all_df.loc[(all_df.index >= ini) & (all_df.index < ds)]\n",
    "        hist = hist[hist[\"dow_num\"]==dow]\n",
    "        yhat = hist[\"y\"].mean() if len(hist) else all_df[\"y\"].mean()\n",
    "        out.append({\"ds\":ds, \"y\":row[\"y\"], \"yhat_same_dow_4w\":yhat, \"dow_num\":dow})\n",
    "    return pd.DataFrame(out).sort_values(\"ds\")\n",
    "\n",
    "def eval_baselines(uid):\n",
    "    tr, te = split_by_uid(uid)\n",
    "    b1 = baseline_dow_mean_per_uid(tr, te)\n",
    "    b2 = baseline_same_dow_last_4w_B(tr, te, bdays=20)\n",
    "\n",
    "    print(f\"\\n=== Baselines — {uid} ===\")\n",
    "    mae = mean_absolute_error(b1[\"y\"], b1[\"yhat_dow_mean\"])\n",
    "    sm  = smape(b1[\"y\"], b1[\"yhat_dow_mean\"])\n",
    "    acc, _, _ = acc_bins_centered(b1[\"y\"], b1[\"yhat_dow_mean\"], BIN_SIZE)\n",
    "    print(f\"Mean DOW                 | MAE={mae:.1f} | sMAPE={sm:.2f}% | acc_faixa({BIN_SIZE})={acc*100:.1f}%\")\n",
    "\n",
    "    mae = mean_absolute_error(b2[\"y\"], b2[\"yhat_same_dow_4w\"])\n",
    "    sm  = smape(b2[\"y\"], b2[\"yhat_same_dow_4w\"])\n",
    "    acc, _, _ = acc_bins_centered(b2[\"y\"], b2[\"yhat_same_dow_4w\"], BIN_SIZE)\n",
    "    print(f\"Same DOW (≈4 sem úteis)  | MAE={mae:.1f} | sMAPE={sm:.2f}% | acc_faixa({BIN_SIZE})={acc*100:.1f}%\")\n",
    "\n",
    "for t in TIPOS_OK:\n",
    "    eval_baselines(t)"
   ]
  },
  {
   "cell_type": "markdown",
   "id": "d2318017",
   "metadata": {},
   "source": [
    "# 7 - Treino N-HITS\n",
    "\n",
    "Para cada tipo (Simcard e Terminal), treinamos um modelo N‑HiTS (via NeuralForecast) em dias úteis (freq='B') com horizonte D+1 (H=1), usando janelas de entrada específicas (input_size: 35 e 84), escalonamento robusto e dropout conforme o dicionário cfg. O modelo incorpora exógenas futuras (dow_num, mes_num, fechamento) para capturar padrões de calendário e o efeito de fechamento do mês. Cada modelo é ajustado apenas com o conjunto de treino e armazenado em forecasters[uid] para gerar previsões por tipo no próximo dia útil."
   ]
  },
  {
   "cell_type": "code",
   "execution_count": null,
   "id": "37011642",
   "metadata": {},
   "outputs": [
    {
     "name": "stderr",
     "output_type": "stream",
     "text": [
      "Seed set to 1\n",
      "GPU available: False, used: False\n",
      "TPU available: False, using: 0 TPU cores\n",
      "HPU available: False, using: 0 HPUs\n",
      "\n",
      "  | Name         | Type          | Params | Mode \n",
      "-------------------------------------------------------\n",
      "0 | loss         | MAE           | 0      | train\n",
      "1 | padder_train | ConstantPad1d | 0      | train\n",
      "2 | scaler       | TemporalNorm  | 0      | train\n",
      "3 | blocks       | ModuleList    | 2.6 M  | train\n",
      "-------------------------------------------------------\n",
      "2.6 M     Trainable params\n",
      "0         Non-trainable params\n",
      "2.6 M     Total params\n",
      "10.271    Total estimated model params size (MB)\n",
      "43        Modules in train mode\n",
      "0         Modules in eval mode\n"
     ]
    },
    {
     "data": {
      "application/vnd.jupyter.widget-view+json": {
       "model_id": "121c9beb99164919833c04f20cf37926",
       "version_major": 2,
       "version_minor": 0
      },
      "text/plain": [
       "Sanity Checking: |          | 0/? [00:00<?, ?it/s]"
      ]
     },
     "metadata": {},
     "output_type": "display_data"
    },
    {
     "data": {
      "application/vnd.jupyter.widget-view+json": {
       "model_id": "08d97e7c616e4cbea486d0f36f5e52c7",
       "version_major": 2,
       "version_minor": 0
      },
      "text/plain": [
       "Training: |          | 0/? [00:00<?, ?it/s]"
      ]
     },
     "metadata": {},
     "output_type": "display_data"
    },
    {
     "data": {
      "application/vnd.jupyter.widget-view+json": {
       "model_id": "29fae12b6f2d4c07bfb617ee7d5c6ab7",
       "version_major": 2,
       "version_minor": 0
      },
      "text/plain": [
       "Validation: |          | 0/? [00:00<?, ?it/s]"
      ]
     },
     "metadata": {},
     "output_type": "display_data"
    },
    {
     "data": {
      "application/vnd.jupyter.widget-view+json": {
       "model_id": "880673f5d7f64625a827471f84498db8",
       "version_major": 2,
       "version_minor": 0
      },
      "text/plain": [
       "Validation: |          | 0/? [00:00<?, ?it/s]"
      ]
     },
     "metadata": {},
     "output_type": "display_data"
    },
    {
     "data": {
      "application/vnd.jupyter.widget-view+json": {
       "model_id": "16cb9c589aa44e769bbb519bb2e381c8",
       "version_major": 2,
       "version_minor": 0
      },
      "text/plain": [
       "Validation: |          | 0/? [00:00<?, ?it/s]"
      ]
     },
     "metadata": {},
     "output_type": "display_data"
    },
    {
     "data": {
      "application/vnd.jupyter.widget-view+json": {
       "model_id": "08b399b4200e480b81d4514ae03633df",
       "version_major": 2,
       "version_minor": 0
      },
      "text/plain": [
       "Validation: |          | 0/? [00:00<?, ?it/s]"
      ]
     },
     "metadata": {},
     "output_type": "display_data"
    },
    {
     "data": {
      "application/vnd.jupyter.widget-view+json": {
       "model_id": "dd9ceea1c969440890628ce1220a026b",
       "version_major": 2,
       "version_minor": 0
      },
      "text/plain": [
       "Validation: |          | 0/? [00:00<?, ?it/s]"
      ]
     },
     "metadata": {},
     "output_type": "display_data"
    },
    {
     "name": "stderr",
     "output_type": "stream",
     "text": [
      "`Trainer.fit` stopped: `max_steps=500` reached.\n",
      "Seed set to 1\n",
      "GPU available: False, used: False\n",
      "TPU available: False, using: 0 TPU cores\n",
      "HPU available: False, using: 0 HPUs\n",
      "\n",
      "  | Name         | Type          | Params | Mode \n",
      "-------------------------------------------------------\n",
      "0 | loss         | MAE           | 0      | train\n",
      "1 | padder_train | ConstantPad1d | 0      | train\n",
      "2 | scaler       | TemporalNorm  | 0      | train\n",
      "3 | blocks       | ModuleList    | 2.8 M  | train\n",
      "-------------------------------------------------------\n",
      "2.8 M     Trainable params\n",
      "0         Non-trainable params\n",
      "2.8 M     Total params\n",
      "11.380    Total estimated model params size (MB)\n",
      "43        Modules in train mode\n",
      "0         Modules in eval mode\n"
     ]
    },
    {
     "data": {
      "application/vnd.jupyter.widget-view+json": {
       "model_id": "6f72020827624ea7a729df0f18495a66",
       "version_major": 2,
       "version_minor": 0
      },
      "text/plain": [
       "Sanity Checking: |          | 0/? [00:00<?, ?it/s]"
      ]
     },
     "metadata": {},
     "output_type": "display_data"
    },
    {
     "data": {
      "application/vnd.jupyter.widget-view+json": {
       "model_id": "c1ca02b892c04315904e2a1a85ec6965",
       "version_major": 2,
       "version_minor": 0
      },
      "text/plain": [
       "Training: |          | 0/? [00:00<?, ?it/s]"
      ]
     },
     "metadata": {},
     "output_type": "display_data"
    },
    {
     "data": {
      "application/vnd.jupyter.widget-view+json": {
       "model_id": "022465ae29df4a6dacd2b50f2db74f53",
       "version_major": 2,
       "version_minor": 0
      },
      "text/plain": [
       "Validation: |          | 0/? [00:00<?, ?it/s]"
      ]
     },
     "metadata": {},
     "output_type": "display_data"
    },
    {
     "data": {
      "application/vnd.jupyter.widget-view+json": {
       "model_id": "56cdcdcc5e404d2e8fb052c09e897396",
       "version_major": 2,
       "version_minor": 0
      },
      "text/plain": [
       "Validation: |          | 0/? [00:00<?, ?it/s]"
      ]
     },
     "metadata": {},
     "output_type": "display_data"
    },
    {
     "data": {
      "application/vnd.jupyter.widget-view+json": {
       "model_id": "09f398e14d9b47ebba805c532ae8dbe4",
       "version_major": 2,
       "version_minor": 0
      },
      "text/plain": [
       "Validation: |          | 0/? [00:00<?, ?it/s]"
      ]
     },
     "metadata": {},
     "output_type": "display_data"
    },
    {
     "data": {
      "application/vnd.jupyter.widget-view+json": {
       "model_id": "6b40550d21ba4280a921f40353e4d029",
       "version_major": 2,
       "version_minor": 0
      },
      "text/plain": [
       "Validation: |          | 0/? [00:00<?, ?it/s]"
      ]
     },
     "metadata": {},
     "output_type": "display_data"
    },
    {
     "data": {
      "application/vnd.jupyter.widget-view+json": {
       "model_id": "21d3e63b1a7048e58351df617ac2ec4a",
       "version_major": 2,
       "version_minor": 0
      },
      "text/plain": [
       "Validation: |          | 0/? [00:00<?, ?it/s]"
      ]
     },
     "metadata": {},
     "output_type": "display_data"
    },
    {
     "data": {
      "application/vnd.jupyter.widget-view+json": {
       "model_id": "2cdd39bb013f44bb9359fe8756a064db",
       "version_major": 2,
       "version_minor": 0
      },
      "text/plain": [
       "Validation: |          | 0/? [00:00<?, ?it/s]"
      ]
     },
     "metadata": {},
     "output_type": "display_data"
    },
    {
     "data": {
      "application/vnd.jupyter.widget-view+json": {
       "model_id": "27e0988b37bf41e192bbd09ff5100e46",
       "version_major": 2,
       "version_minor": 0
      },
      "text/plain": [
       "Validation: |          | 0/? [00:00<?, ?it/s]"
      ]
     },
     "metadata": {},
     "output_type": "display_data"
    },
    {
     "data": {
      "application/vnd.jupyter.widget-view+json": {
       "model_id": "a363c01fe8ef4dd497c68f000ba949d6",
       "version_major": 2,
       "version_minor": 0
      },
      "text/plain": [
       "Validation: |          | 0/? [00:00<?, ?it/s]"
      ]
     },
     "metadata": {},
     "output_type": "display_data"
    },
    {
     "data": {
      "application/vnd.jupyter.widget-view+json": {
       "model_id": "cc1882d6e0b3487385527bbd1c2b5b74",
       "version_major": 2,
       "version_minor": 0
      },
      "text/plain": [
       "Validation: |          | 0/? [00:00<?, ?it/s]"
      ]
     },
     "metadata": {},
     "output_type": "display_data"
    },
    {
     "name": "stderr",
     "output_type": "stream",
     "text": [
      "`Trainer.fit` stopped: `max_steps=900` reached.\n"
     ]
    }
   ],
   "source": [
    "# Treino — **um N‑HiTS por tipo** (freq='B', com `fechamento`)\n",
    "cfg = {\n",
    "    \"Simcard\":  dict(input_size=INPUT_SIZE_SIM, max_steps=500, dropout=0.05),\n",
    "    \"Terminal\": dict(input_size=INPUT_SIZE_TER, max_steps=900, dropout=0.10),\n",
    "}\n",
    "\n",
    "forecasters = {}\n",
    "\n",
    "for uid in TIPOS_OK:\n",
    "    tr, _ = split_by_uid(uid)\n",
    "    model = NHITS(\n",
    "        input_size=cfg[uid][\"input_size\"],\n",
    "        h=H,\n",
    "        max_steps=cfg[uid][\"max_steps\"],\n",
    "        batch_size=32,\n",
    "        scaler_type='robust',\n",
    "        dropout_prob_theta=cfg[uid][\"dropout\"],\n",
    "        futr_exog_list=[\"dow_num\",\"mes_num\",\"fechamento\"],\n",
    "    )\n",
    "    nf = NeuralForecast(models=[model], freq='B')\n",
    "    nf.fit(df=tr[[\"unique_id\",\"ds\",\"y\",\"dow_num\",\"mes_num\",\"fechamento\"]])\n",
    "    forecasters[uid] = nf"
   ]
  },
  {
   "cell_type": "markdown",
   "id": "5abdffd6",
   "metadata": {},
   "source": [
    "# 8 - Avaliações\n",
    "\n",
    "Para cada tipo (Simcard, Terminal), geramos previsões no conjunto de teste com o N‑HiTS já treinado (usando as exógenas dow_num, mes_num, fechamento), unimos com os valores reais e calculamos as métricas MAE, sMAPE e acurácia por faixas (bins de BIN_SIZE=200) — primeiro sem calibração e depois com calibração global opcional, na qual estimamos um viés aditivo nos primeiros CALIB_DAYS dias do teste e ajustamos as previsões (yhat_cal = yhat + bias). Por fim, guardamos para cada uid o DataFrame de predições (com y, yhat, yhat_cal) e o viés estimado, permitindo comparar desempenho bruto vs calibrado e verificar se há tendência sistemática de sub/ super‑previsão."
   ]
  },
  {
   "cell_type": "code",
   "execution_count": null,
   "id": "49381a3f",
   "metadata": {},
   "outputs": [
    {
     "name": "stderr",
     "output_type": "stream",
     "text": [
      "GPU available: False, used: False\n",
      "TPU available: False, using: 0 TPU cores\n",
      "HPU available: False, using: 0 HPUs\n"
     ]
    },
    {
     "data": {
      "application/vnd.jupyter.widget-view+json": {
       "model_id": "3e458c1f808849c1933f4ad87a0857b1",
       "version_major": 2,
       "version_minor": 0
      },
      "text/plain": [
       "Predicting: |          | 0/? [00:00<?, ?it/s]"
      ]
     },
     "metadata": {},
     "output_type": "display_data"
    },
    {
     "name": "stderr",
     "output_type": "stream",
     "text": [
      "GPU available: False, used: False\n",
      "TPU available: False, using: 0 TPU cores\n",
      "HPU available: False, using: 0 HPUs\n"
     ]
    },
    {
     "name": "stdout",
     "output_type": "stream",
     "text": [
      "\n",
      "=== Simcard — Teste (sem calibração) ===\n",
      "MAE=121.8 | sMAPE=12.11% | Acurácia_faixa(200)=100.0%\n"
     ]
    },
    {
     "data": {
      "application/vnd.jupyter.widget-view+json": {
       "model_id": "c3cbeb10b511462c83ced349150decb1",
       "version_major": 2,
       "version_minor": 0
      },
      "text/plain": [
       "Predicting: |          | 0/? [00:00<?, ?it/s]"
      ]
     },
     "metadata": {},
     "output_type": "display_data"
    },
    {
     "name": "stdout",
     "output_type": "stream",
     "text": [
      "\n",
      "=== Terminal — Teste (sem calibração) ===\n",
      "MAE=83.8 | sMAPE=18.40% | Acurácia_faixa(200)=100.0%\n"
     ]
    }
   ],
   "source": [
    "# Avaliação no teste — contínuo, faixas (BIN=200) e **calibração global** (opcional)\n",
    "results = {}\n",
    "# Calibração global: nº de primeiros dias do teste usados para estimar viés (0 = desativa)\n",
    "CALIB_DAYS = 5\n",
    "\n",
    "for uid in TIPOS_OK:\n",
    "    tr, te = split_by_uid(uid)\n",
    "    nf = forecasters[uid]\n",
    "\n",
    "    futr = te[[\"unique_id\",\"ds\",\"dow_num\",\"mes_num\",\"fechamento\"]]\n",
    "    pred = nf.predict(futr_df=futr).merge(te[[\"ds\",\"y\",\"unique_id\"]], on=[\"unique_id\",\"ds\"], how=\"left\")\n",
    "    pred.rename(columns={\"NHITS\":\"yhat\"}, inplace=True)\n",
    "\n",
    "    # Sem calibração\n",
    "    mae0 = mean_absolute_error(pred[\"y\"], pred[\"yhat\"])\n",
    "    sm0  = smape(pred[\"y\"], pred[\"yhat\"])\n",
    "    acc0, _, _ = acc_bins_centered(pred[\"y\"], pred[\"yhat\"], BIN_SIZE)\n",
    "\n",
    "    print(f\"\\n=== {uid} — Teste (sem calibração) ===\")\n",
    "    print(f\"MAE={mae0:.1f} | sMAPE={sm0:.2f}% | Acurácia_faixa({BIN_SIZE})={acc0*100:.1f}%\")\n",
    "\n",
    "    # Calibração global nos primeiros CALIB_DAYS do teste\n",
    "    bias = 0.0\n",
    "    if CALIB_DAYS > 0 and len(pred) >= CALIB_DAYS:\n",
    "        cal_win = pred.sort_values(\"ds\").head(CALIB_DAYS)\n",
    "        bias = calibrate_bias_on_window(cal_win[\"y\"].values, cal_win[\"yhat\"].values)\n",
    "\n",
    "        pred[\"yhat_cal\"] = pred[\"yhat\"] + bias\n",
    "        mae1 = mean_absolute_error(pred[\"y\"], pred[\"yhat_cal\"])\n",
    "        sm1  = smape(pred[\"y\"], pred[\"yhat_cal\"])\n",
    "        acc1, _, _ = acc_bins_centered(pred[\"y\"], pred[\"yhat_cal\"], BIN_SIZE)\n",
    "\n",
    "        print(f\"=== {uid} — Teste (com calibração, janela={CALIB_DAYS}) ===\")\n",
    "        print(f\"MAE={mae1:.1f} | sMAPE={sm1:.2f}% | Acurácia_faixa({BIN_SIZE})={acc1*100:.1f}%\")\n",
    "    else:\n",
    "        pred[\"yhat_cal\"] = pred[\"yhat\"]\n",
    "\n",
    "    results[uid] = dict(pred=pred, bias=bias)"
   ]
  },
  {
   "cell_type": "markdown",
   "id": "51644ea5",
   "metadata": {},
   "source": [
    "# 9 - PRED\n",
    "\n",
    "Para cada tipo (Simcard, Terminal), geramos a previsão do próximo dia útil (D+1) a partir do treino (make_future_dataframe(h=1)), recalculando as exógenas (dow_num, mes_num, fechamento) para a data futura. O modelo N-HiTS fornece yhat e aplicamos, se disponível, a calibração global (viés aditivo estimado na validação) para obter yhat_cal. Em seguida, ambas as previsões são mapeadas para faixas centralizadas de tamanho BIN=200 por meio de to_bin_index_centered e bin_label_from_idx, produzindo faixa e faixa_cal (ex.: “0–199”, “200–399”). Por fim, consolidamos tudo em prev_all com a previsão D+1 por unique_id, já pronta para consumo operacional (valor pontual e faixa).\n",
    "\n"
   ]
  },
  {
   "cell_type": "code",
   "execution_count": null,
   "id": "18b471ee",
   "metadata": {},
   "outputs": [
    {
     "name": "stderr",
     "output_type": "stream",
     "text": [
      "GPU available: False, used: False\n",
      "TPU available: False, using: 0 TPU cores\n",
      "HPU available: False, using: 0 HPUs\n"
     ]
    },
    {
     "data": {
      "application/vnd.jupyter.widget-view+json": {
       "model_id": "8ca36d74bbcf477aa040250289745691",
       "version_major": 2,
       "version_minor": 0
      },
      "text/plain": [
       "Predicting: |          | 0/? [00:00<?, ?it/s]"
      ]
     },
     "metadata": {},
     "output_type": "display_data"
    },
    {
     "name": "stderr",
     "output_type": "stream",
     "text": [
      "GPU available: False, used: False\n",
      "TPU available: False, using: 0 TPU cores\n",
      "HPU available: False, using: 0 HPUs\n"
     ]
    },
    {
     "data": {
      "application/vnd.jupyter.widget-view+json": {
       "model_id": "b320cf7ca36d47dc8029d506f4554854",
       "version_major": 2,
       "version_minor": 0
      },
      "text/plain": [
       "Predicting: |          | 0/? [00:00<?, ?it/s]"
      ]
     },
     "metadata": {},
     "output_type": "display_data"
    },
    {
     "name": "stdout",
     "output_type": "stream",
     "text": [
      "\n",
      "Previsão D+1 (faixas=200, com calibração opcional):\n"
     ]
    },
    {
     "data": {
      "text/html": [
       "<div>\n",
       "<style scoped>\n",
       "    .dataframe tbody tr th:only-of-type {\n",
       "        vertical-align: middle;\n",
       "    }\n",
       "\n",
       "    .dataframe tbody tr th {\n",
       "        vertical-align: top;\n",
       "    }\n",
       "\n",
       "    .dataframe thead th {\n",
       "        text-align: right;\n",
       "    }\n",
       "</style>\n",
       "<table border=\"1\" class=\"dataframe\">\n",
       "  <thead>\n",
       "    <tr style=\"text-align: right;\">\n",
       "      <th></th>\n",
       "      <th>unique_id</th>\n",
       "      <th>ds</th>\n",
       "      <th>yhat</th>\n",
       "      <th>yhat_cal</th>\n",
       "      <th>faixa</th>\n",
       "      <th>faixa_cal</th>\n",
       "    </tr>\n",
       "  </thead>\n",
       "  <tbody>\n",
       "    <tr>\n",
       "      <th>0</th>\n",
       "      <td>Simcard</td>\n",
       "      <td>2025-06-04</td>\n",
       "      <td>1066.765137</td>\n",
       "      <td>1066.765137</td>\n",
       "      <td>1000–1199</td>\n",
       "      <td>1000–1199</td>\n",
       "    </tr>\n",
       "    <tr>\n",
       "      <th>1</th>\n",
       "      <td>Terminal</td>\n",
       "      <td>2025-06-04</td>\n",
       "      <td>413.244995</td>\n",
       "      <td>413.244995</td>\n",
       "      <td>400–599</td>\n",
       "      <td>400–599</td>\n",
       "    </tr>\n",
       "  </tbody>\n",
       "</table>\n",
       "</div>"
      ],
      "text/plain": [
       "  unique_id         ds         yhat     yhat_cal      faixa  faixa_cal\n",
       "0   Simcard 2025-06-04  1066.765137  1066.765137  1000–1199  1000–1199\n",
       "1  Terminal 2025-06-04   413.244995   413.244995    400–599    400–599"
      ]
     },
     "metadata": {},
     "output_type": "display_data"
    }
   ],
   "source": [
    "# Previsão D+1 corrigida (usa treino) + faixa (BIN=200) com/sem calibração\n",
    "\n",
    "def bin_label_from_idx(idx, bin_size=200):\n",
    "    a = int(idx * bin_size)\n",
    "    b = int((idx + 1) * bin_size - 1)\n",
    "    return f\"{a}–{b}\"\n",
    "\n",
    "def is_business_month_end_last3(ds):\n",
    "    \"\"\"1 se 'ds' for um dos 3 últimos dias úteis do mês; 0 caso contrário.\"\"\"\n",
    "    ds = pd.to_datetime(ds).floor(\"D\")\n",
    "    mstart = ds.replace(day=1)\n",
    "    mend = (mstart + MonthEnd(1))\n",
    "    bidx = pd.bdate_range(mstart, mend, freq=\"B\")\n",
    "    if len(bidx) == 0:\n",
    "        return 0\n",
    "    last3 = set(bidx[-3:])\n",
    "    return int(ds in last3)\n",
    "\n",
    "def predict_next_business_day(uid, train_df, nf, bias_shift=0.0):\n",
    "    \"\"\"\n",
    "    Prevê D+1 (próximo Business Day) para 'uid' com exógenas e calibração global (bias_shift).\n",
    "    IMPORTANTE: futr_df a partir do **treino** para evitar inconsistências de timeline.\n",
    "    \"\"\"\n",
    "    tr_u_core = train_df[train_df[\"unique_id\"]==uid][[\"unique_id\",\"ds\",\"y\"]].copy()\n",
    "\n",
    "    futr = nf.make_future_dataframe(df=tr_u_core, h=1)\n",
    "    futr[\"dow_num\"]    = futr[\"ds\"].dt.dayofweek\n",
    "    futr[\"mes_num\"]    = futr[\"ds\"].dt.month\n",
    "    futr[\"fechamento\"] = futr[\"ds\"].apply(is_business_month_end_last3).astype(int)\n",
    "\n",
    "    out = nf.predict(futr_df=futr)[[\"unique_id\",\"ds\",\"NHITS\"]].rename(columns={\"NHITS\":\"yhat\"})\n",
    "    out[\"yhat_cal\"] = out[\"yhat\"] + bias_shift\n",
    "\n",
    "    # Faixas centralizadas (BIN=200)\n",
    "    idx0 = to_bin_index_centered(out[\"yhat\"].values, BIN_SIZE)[0]\n",
    "    idx1 = to_bin_index_centered(out[\"yhat_cal\"].values, BIN_SIZE)[0]\n",
    "    out[\"faixa\"]     = bin_label_from_idx(idx0, BIN_SIZE)\n",
    "    out[\"faixa_cal\"] = bin_label_from_idx(idx1, BIN_SIZE)\n",
    "    return out\n",
    "\n",
    "prev_rows = []\n",
    "for uid in TIPOS_OK:\n",
    "    tr, _ = split_by_uid(uid)\n",
    "    nf = forecasters[uid]\n",
    "    bias = results[uid][\"bias\"]\n",
    "    prev_rows.append(predict_next_business_day(uid, train, nf, bias_shift=bias))\n",
    "\n",
    "prev_all = pd.concat(prev_rows, ignore_index=True)\n",
    "print(f\"\\nPrevisão D+1 (faixas={BIN_SIZE}, com calibração opcional):\")\n",
    "display(prev_all)"
   ]
  },
  {
   "cell_type": "markdown",
   "id": "a5417b97",
   "metadata": {},
   "source": [
    "# 10 - Save Pipeline e Modelos\n",
    "\n",
    "Aqui consolidamos todo o pipeline para reuso e produção. Criamos um diretório único (pipeline/<RUN_ID>) com base na UF e timestamp, e salvamos:\n",
    "\n",
    "Modelos treinados (forecasters) em formato pickle, um arquivo por tipo (Simcard.pkl, Terminal.pkl).\n",
    "Configurações essenciais (config.json), incluindo parâmetros do split, calibração, BIN_SIZE, hiperparâmetros (cfg_modelos) e metadados do pipeline.\n",
    "Esse passo garante reprodutibilidade, facilita deploy e permite carregar modelos e configs rapidamente para previsões futuras sem retrain."
   ]
  },
  {
   "cell_type": "code",
   "execution_count": 11,
   "id": "532965a5",
   "metadata": {},
   "outputs": [],
   "source": [
    "# ## Salvar pipeline (modelos + configs)\n",
    "\n",
    "RUN_ID = f\"{UF_ALVO}_{pd.Timestamp.today().strftime('%Y-%m-%d_%H%M')}\"\n",
    "BASE_DIR = Path(\"pipeline\") / RUN_ID\n",
    "BASE_DIR.mkdir(parents=True, exist_ok=True)\n",
    "\n",
    "# Salva modelos (um por tipo)\n",
    "for uid, nf in forecasters.items():\n",
    "    with open(BASE_DIR / f\"{uid}.pkl\", \"wb\") as f:\n",
    "        pickle.dump(nf, f)\n",
    "\n",
    "# Salva configs essenciais\n",
    "config = {\n",
    "    \"UF_ALVO\": UF_ALVO,\n",
    "    \"TIPOS_OK\": TIPOS_OK,\n",
    "    \"BIN_SIZE\": BIN_SIZE,\n",
    "    \"H\": H,\n",
    "    \"TEST_BDAYS\": TEST_BDAYS,\n",
    "    \"CALIB_DAYS\": CALIB_DAYS,\n",
    "    \"cfg_modelos\": cfg\n",
    "}\n",
    "with open(BASE_DIR / \"config.json\", \"w\", encoding=\"utf-8\") as f:\n",
    "    json.dump(config, f, indent=2, ensure_ascii=False)\n"
   ]
  },
  {
   "cell_type": "markdown",
   "id": "5ff73905",
   "metadata": {},
   "source": [
    "# 11 - Implementação\n",
    "\n",
    "Esta implementação operacionaliza o pipeline: mantém um repositório de runtime em CSV (history.csv para valores reais por unique_id, ds, y e preds_log.csv para previsões com timestamp e run_dir), oferece utilitários para registrar o histórico do dia e logar previsões, e usa um viés calibrável via EWMA para corrigir tendência do modelo ao longo do tempo. A função predict_next_bday_for_all_uids carrega pipeline (config, modelos, biases), usa o histórico local mais recente como contexto, gera as exógenas de calendário para D+1 (dia útil seguinte), prevê com o modelo, aplica o bias e classifica a previsão em faixas (BIN=200), salvando tudo no log. Já o fluxo eod_submit_and_predict realiza o EOD: grava os reais do dia, atualiza o bias por UID se houver previsão logada para a mesma data (corrigindo o erro com EWMA) e gera a previsão D+1 com saída amigável (valor calibrado e faixa), deixando o sistema pronto para operação diária e aprendizado contínuo."
   ]
  },
  {
   "cell_type": "code",
   "execution_count": null,
   "id": "c801f473",
   "metadata": {},
   "outputs": [],
   "source": [
    "# ================================\n",
    "# PRODUÇÃO — EOD + D+1 + LOGS CSV\n",
    "# ================================\n",
    "\n",
    "# --- Caminhos de runtime (CSV) ---\n",
    "RUNTIME_DIR = Path(\"runtime_store\")\n",
    "RUNTIME_DIR.mkdir(exist_ok=True)\n",
    "\n",
    "HIST_PATH = RUNTIME_DIR / \"history.csv\"     # histórico agregado (unique_id, ds, y)\n",
    "PRED_LOG  = RUNTIME_DIR / \"preds_log.csv\"   # log de previsões (unique_id, ds, yhat, yhat_cal, ...)\n",
    "\n",
    "# --- Utilidades de CSV ---\n",
    "def load_history():\n",
    "    if HIST_PATH.exists():\n",
    "        return pd.read_csv(HIST_PATH, parse_dates=[\"ds\"])\n",
    "    return pd.DataFrame(columns=[\"unique_id\",\"ds\",\"y\"])\n",
    "\n",
    "def append_history_row(ds, values: dict):\n",
    "    \"\"\"\n",
    "    Registra os valores reais do dia.\n",
    "    values = {'Simcard': y_real, 'Terminal': y_real}\n",
    "    \"\"\"\n",
    "    ds = pd.to_datetime(ds).floor(\"D\")\n",
    "    rows = [{\"unique_id\": uid, \"ds\": ds, \"y\": float(v)} for uid, v in values.items()]\n",
    "    df_new = pd.DataFrame(rows)\n",
    "    df_old = load_history()\n",
    "    df_all = (pd.concat([df_old, df_new], ignore_index=True)\n",
    "                .drop_duplicates(subset=[\"unique_id\",\"ds\"], keep=\"last\")\n",
    "                .sort_values([\"unique_id\",\"ds\"]))\n",
    "    df_all.to_csv(HIST_PATH, index=False)\n",
    "\n",
    "def append_pred_log(df_preds):\n",
    "    \"\"\"\n",
    "    Salva/atualiza log de previsões.\n",
    "    df_preds: ['unique_id','ds','yhat','yhat_cal','faixa','faixa_cal','run_dir']\n",
    "    \"\"\"\n",
    "    df_preds = df_preds.copy()\n",
    "    df_preds[\"ts_logged\"] = pd.Timestamp.now()\n",
    "    if PRED_LOG.exists():\n",
    "        old = pd.read_csv(PRED_LOG, parse_dates=[\"ds\",\"ts_logged\"])\n",
    "        out = (pd.concat([old, df_preds], ignore_index=True)\n",
    "                 .drop_duplicates(subset=[\"unique_id\",\"ds\",\"run_dir\"], keep=\"last\"))\n",
    "    else:\n",
    "        out = df_preds\n",
    "    out.to_csv(PRED_LOG, index=False)\n",
    "\n",
    "# --- Bias (calibração global simples) ---\n",
    "def update_bias_ewma(old_bias: float, error: float, alpha: float = 0.3) -> float:\n",
    "    \"\"\"EWMA do viés: novo = (1-alpha)*antigo + alpha*(erro do dia).\"\"\"\n",
    "    if pd.isna(old_bias):\n",
    "        old_bias = 0.0\n",
    "    return float((1 - alpha) * old_bias + alpha * error)\n",
    "\n",
    "# --- Previsão D+1 usando o histórico local como contexto ---\n",
    "def predict_next_bday_for_all_uids(pipeline_dir=None, history_df=None, return_all_cols=False, verbose=False):\n",
    "    \"\"\"\n",
    "    - Carrega pipeline (config, modelos, biases).\n",
    "    - Usa o histórico (tail) como df de contexto para o nf.predict.\n",
    "    - Preve o próximo dia útil (D+1) para cada UID.\n",
    "    - Loga as previsões em preds_log.csv.\n",
    "    \"\"\"\n",
    "    config, models, biases, run_dir = load_pipeline(pipeline_dir)\n",
    "    BIN_SIZE = int(config.get(\"BIN_SIZE\", BIN_SIZE_DEFAULT))\n",
    "\n",
    "    hist = load_history() if history_df is None else history_df.copy()\n",
    "    if hist.empty:\n",
    "        raise ValueError(\"Histórico vazio. Registre pelo menos um dia de valores reais antes de prever D+1.\")\n",
    "\n",
    "    out_rows = []\n",
    "\n",
    "    for uid in config[\"TIPOS_OK\"]:\n",
    "        g = hist[hist[\"unique_id\"]==uid].dropna(subset=[\"y\"]).sort_values(\"ds\")\n",
    "        if g.empty:\n",
    "            raise ValueError(f\"Sem histórico para UID '{uid}'. Registre valores reais primeiro.\")\n",
    "\n",
    "        last_ds = pd.to_datetime(g[\"ds\"].max()).floor(\"D\")\n",
    "        ds_next = ensure_business_day(last_ds + BusinessDay(1))\n",
    "\n",
    "        # Definir janela mínima (usa input_size do modelo, com folga)\n",
    "        input_size = int(config.get(\"cfg_modelos\", {}).get(uid, {}).get(\"input_size\", 32))\n",
    "        g_tail = g.iloc[-max(input_size, 40):].copy()\n",
    "\n",
    "        # Exógenas para histórico e 1 passo futuro\n",
    "        df_hist_exog = add_exogs(g_tail[[\"unique_id\",\"ds\",\"y\"]])\n",
    "        futr_next = add_exogs(pd.DataFrame({\"unique_id\":[uid], \"ds\":[ds_next]}))\n",
    "\n",
    "        nf = models[uid]\n",
    "        pred = nf.predict(\n",
    "            df=df_hist_exog[[\"unique_id\",\"ds\",\"y\",\"dow_num\",\"mes_num\",\"fechamento\"]],\n",
    "            futr_df=futr_next[[\"unique_id\",\"ds\",\"dow_num\",\"mes_num\",\"fechamento\"]]\n",
    "        )\n",
    "\n",
    "        # Detecta a coluna do modelo (ex.: 'NHITS') e padroniza\n",
    "        pred_col = next(c for c in pred.columns if c not in [\"unique_id\",\"ds\"])\n",
    "        pred = pred.rename(columns={pred_col:\"yhat\"}).sort_values(\"ds\")\n",
    "\n",
    "        # Aplica bias e bins\n",
    "        bias = float(biases.get(uid, 0.0))\n",
    "        pred[\"yhat_cal\"] = pred[\"yhat\"] + bias\n",
    "        idx0 = to_bin_index_centered(pred[\"yhat\"].values, BIN_SIZE)[0]\n",
    "        idx1 = to_bin_index_centered(pred[\"yhat_cal\"].values, BIN_SIZE)[0]\n",
    "        pred[\"faixa\"]     = bin_label_from_idx(idx0, BIN_SIZE)\n",
    "        pred[\"faixa_cal\"] = bin_label_from_idx(idx1, BIN_SIZE)\n",
    "\n",
    "        if return_all_cols:\n",
    "            pred = pred.merge(futr_next, on=[\"unique_id\",\"ds\"], how=\"left\")\n",
    "\n",
    "        pred[\"run_dir\"] = str(run_dir)\n",
    "        out_rows.append(pred)\n",
    "\n",
    "        if verbose:\n",
    "            print(f\"{uid}: D+1 {ds_next.date()} → {pred['yhat_cal'].iloc[0]:.0f} (faixa {pred['faixa_cal'].iloc[0]})\")\n",
    "\n",
    "    result = (pd.concat(out_rows, ignore_index=True)\n",
    "                .sort_values([\"unique_id\",\"ds\"])\n",
    "                .reset_index(drop=True))\n",
    "\n",
    "    # Loga previsões D+1\n",
    "    append_pred_log(result[[\"unique_id\",\"ds\",\"yhat\",\"yhat_cal\",\"faixa\",\"faixa_cal\",\"run_dir\"]])\n",
    "\n",
    "    return result\n",
    "\n",
    "# --- EOD: registrar real, atualizar bias (se houver previsão logada), prever D+1 ---\n",
    "def eod_submit_and_predict(ds_real, real_simcard, real_terminal, alpha_bias=0.3, pipeline_dir=None):\n",
    "    \"\"\"\n",
    "    Fluxo diário:\n",
    "      1) Registra o real do dia em history.csv.\n",
    "      2) Se houver previsão logada para este dia em preds_log.csv, atualiza o bias por UID.\n",
    "      3) Preve D+1 para cada UID usando o histórico local como contexto.\n",
    "    Retorna DataFrame com a previsão D+1 calibrada.\n",
    "    \"\"\"\n",
    "    ds_real = pd.to_datetime(ds_real).floor(\"D\")\n",
    "\n",
    "    # 1) Registrar histórico do dia\n",
    "    append_history_row(ds_real, {\"Simcard\": real_simcard, \"Terminal\": real_terminal})\n",
    "\n",
    "    # 2) Atualizar bias, se houver previsão do dia no log\n",
    "    config, models, biases, run_dir = load_pipeline(pipeline_dir)\n",
    "    if PRED_LOG.exists():\n",
    "        log = pd.read_csv(PRED_LOG, parse_dates=[\"ds\"])\n",
    "        todays = log[log[\"ds\"] == ds_real]\n",
    "        if not todays.empty:\n",
    "            y_true_map = {\"Simcard\": float(real_simcard), \"Terminal\": float(real_terminal)}\n",
    "            new_biases = {}\n",
    "            for uid in config[\"TIPOS_OK\"]:\n",
    "                row = todays[todays[\"unique_id\"]==uid]\n",
    "                if not row.empty:\n",
    "                    yhat_cal = float(row[\"yhat_cal\"].iloc[0])\n",
    "                    err = y_true_map[uid] - yhat_cal\n",
    "                    old = float(biases.get(uid, 0.0))\n",
    "                    new_biases[uid] = update_bias_ewma(old, err, alpha_bias)\n",
    "                else:\n",
    "                    new_biases[uid] = float(biases.get(uid, 0.0))\n",
    "            # Salva biases atualizados\n",
    "            with open(Path(run_dir) / \"biases.json\", \"w\", encoding=\"utf-8\") as f:\n",
    "                json.dump(new_biases, f, ensure_ascii=False, indent=2)\n",
    "\n",
    "    # 3) Prever D+1\n",
    "    prev_next = predict_next_bday_for_all_uids(pipeline_dir=run_dir, verbose=True)\n",
    "\n",
    "    # Print amigável solicitado\n",
    "    for _, row in prev_next.iterrows():\n",
    "        print(f\"{row['unique_id']}: {row['yhat_cal']:.0f} pedidos (faixa {row['faixa_cal']}) — {row['ds'].date()}\")\n",
    "\n",
    "    return prev_next\n",
    "\n",
    "# ===== Exemplos de uso (modo notebook) =====\n",
    "# 1) Ao fim do dia, informar os reais e obter a previsão de D+1:\n",
    "# prev_next = eod_submit_and_predict(\"2025-10-01\", real_simcard=980, real_terminal=2150, alpha_bias=0.3)\n",
    "# display(prev_next)\n",
    "\n",
    "# 2) A qualquer momento (sem enviar real agora), prever D+1 baseado no histórico atual:\n",
    "# prev = predict_next_bday_for_all_uids(verbose=True)\n",
    "# display(prev)"
   ]
  },
  {
   "cell_type": "markdown",
   "id": "96cb04b8",
   "metadata": {},
   "source": [
    "# 12 - Retreino\n",
    "\n",
    "Esta rotina recarrega o pipeline atual (configurações, UIDs e viés), lê o histórico local (history.csv), gera as exógenas de calendário (dow_num, mes_num, fechamento) e re-treina um N‑HiTS por tipo usando os mesmos hiperparâmetros definidos em config (incluindo input_size, max_steps, dropout e freq='B' com horizonte H). Ao final, cria um novo diretório versionado (pipeline/<RUN_ID>), salva os modelos treinados (.pkl), a configuração (config.json) e os biases (mantidos ou zerados conforme keep_bias), retornando o caminho do novo pipeline — pronto para uso em produção sem precisar reprocessar toda a ETL."
   ]
  },
  {
   "cell_type": "code",
   "execution_count": null,
   "id": "d9c4fb03",
   "metadata": {},
   "outputs": [],
   "source": [
    "# ==========================\n",
    "# RE-TREINO SOB DEMANDA (ST)\n",
    "# ==========================\n",
    "def retrain_from_history(pipeline_dir=None, history_path=HIST_PATH, keep_bias=True):\n",
    "    # Carrega config & biases do pipeline atual\n",
    "    config, _, biases, run_dir_old = load_pipeline(pipeline_dir)\n",
    "    TIPOS = config[\"TIPOS_OK\"]\n",
    "    H     = int(config.get(\"H\", 1))\n",
    "\n",
    "    # Lê histórico e cria exógenas\n",
    "    hist = pd.read_csv(history_path, parse_dates=[\"ds\"]) if Path(history_path).exists() else pd.DataFrame()\n",
    "    hist = hist[hist[\"unique_id\"].isin(TIPOS)].copy()\n",
    "    if hist.empty:\n",
    "        raise ValueError(\"Histórico vazio — não há como re-treinar.\")\n",
    "    hist = hist.sort_values([\"unique_id\",\"ds\"])\n",
    "    hist = add_exogs(hist)\n",
    "\n",
    "    # Treina NHITS por UID\n",
    "    forecasters = {}\n",
    "    for uid in TIPOS:\n",
    "        params = config[\"cfg_modelos\"][uid]\n",
    "        model = NHITS(\n",
    "            input_size=params[\"input_size\"],\n",
    "            h=H,\n",
    "            max_steps=params[\"max_steps\"],\n",
    "            batch_size=32,\n",
    "            scaler_type='robust',\n",
    "            dropout_prob_theta=params.get(\"dropout\", 0.0),\n",
    "        )\n",
    "        nf = NeuralForecast(models=[model], freq='B')\n",
    "        df_u = hist[hist[\"unique_id\"]==uid][[\"unique_id\",\"ds\",\"y\",\"dow_num\",\"mes_num\",\"fechamento\"]]\n",
    "        if df_u.empty:\n",
    "            raise ValueError(f\"Histórico vazio para {uid}.\")\n",
    "        nf.fit(df=df_u)\n",
    "        forecasters[uid] = nf\n",
    "\n",
    "    # Salva novo pipeline\n",
    "    RUN_ID = f\"{config['UF_ALVO']}_{pd.Timestamp.today().strftime('%Y-%m-%d_%H%M')}\"\n",
    "    NEW_DIR = Path(\"pipeline\") / RUN_ID\n",
    "    NEW_DIR.mkdir(parents=True, exist_ok=True)\n",
    "\n",
    "    # Modelos\n",
    "    for uid, nf in forecasters.items():\n",
    "        with open(NEW_DIR / f\"{uid}.pkl\", \"wb\") as f:\n",
    "            pickle.dump(nf, f)\n",
    "\n",
    "    # Config (mantém igual ao atual)\n",
    "    with open(NEW_DIR / \"config.json\", \"w\", encoding=\"utf-8\") as f:\n",
    "        json.dump(config, f, ensure_ascii=False, indent=2)\n",
    "\n",
    "    # Biases: mantém ou zera\n",
    "    out_biases = biases if keep_bias else {uid: 0.0 for uid in TIPOS}\n",
    "    with open(NEW_DIR / \"biases.json\", \"w\", encoding=\"utf-8\") as f:\n",
    "        json.dump(out_biases, f, ensure_ascii=False, indent=2)\n",
    "\n",
    "    print(f\"✅ Re-treino concluído. Novo pipeline: {NEW_DIR}\")\n",
    "    return str(NEW_DIR)\n",
    "\n",
    "# ===== Exemplo manual (rodar 1x por semana) =====\n",
    "# new_dir = retrain_from_history(keep_bias=True)\n",
    "# print(new_dir)"
   ]
  }
 ],
 "metadata": {
  "kernelspec": {
   "display_name": "Python 3",
   "language": "python",
   "name": "python3"
  },
  "language_info": {
   "codemirror_mode": {
    "name": "ipython",
    "version": 3
   },
   "file_extension": ".py",
   "mimetype": "text/x-python",
   "name": "python",
   "nbconvert_exporter": "python",
   "pygments_lexer": "ipython3",
   "version": "3.12.0"
  }
 },
 "nbformat": 4,
 "nbformat_minor": 5
}
